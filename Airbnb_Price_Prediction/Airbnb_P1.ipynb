{
 "cells": [
  {
   "cell_type": "code",
   "execution_count": 4,
   "id": "830c2493-9ee4-4cfc-aea9-f7d876326d07",
   "metadata": {},
   "outputs": [],
   "source": [
    "import pandas as pd"
   ]
  },
  {
   "cell_type": "code",
   "execution_count": 6,
   "id": "eb1e8287-8c9a-424d-a9e4-d933f77db430",
   "metadata": {},
   "outputs": [
    {
     "data": {
      "text/html": [
       "<div>\n",
       "<style scoped>\n",
       "    .dataframe tbody tr th:only-of-type {\n",
       "        vertical-align: middle;\n",
       "    }\n",
       "\n",
       "    .dataframe tbody tr th {\n",
       "        vertical-align: top;\n",
       "    }\n",
       "\n",
       "    .dataframe thead th {\n",
       "        text-align: right;\n",
       "    }\n",
       "</style>\n",
       "<table border=\"1\" class=\"dataframe\">\n",
       "  <thead>\n",
       "    <tr style=\"text-align: right;\">\n",
       "      <th></th>\n",
       "      <th>id</th>\n",
       "      <th>log_price</th>\n",
       "      <th>property_type</th>\n",
       "      <th>room_type</th>\n",
       "      <th>amenities</th>\n",
       "      <th>accommodates</th>\n",
       "      <th>bathrooms</th>\n",
       "      <th>bed_type</th>\n",
       "      <th>cancellation_policy</th>\n",
       "      <th>cleaning_fee</th>\n",
       "      <th>...</th>\n",
       "      <th>latitude</th>\n",
       "      <th>longitude</th>\n",
       "      <th>name</th>\n",
       "      <th>neighbourhood</th>\n",
       "      <th>number_of_reviews</th>\n",
       "      <th>review_scores_rating</th>\n",
       "      <th>thumbnail_url</th>\n",
       "      <th>zipcode</th>\n",
       "      <th>bedrooms</th>\n",
       "      <th>beds</th>\n",
       "    </tr>\n",
       "  </thead>\n",
       "  <tbody>\n",
       "    <tr>\n",
       "      <th>0</th>\n",
       "      <td>6901257</td>\n",
       "      <td>5.010635</td>\n",
       "      <td>Apartment</td>\n",
       "      <td>Entire home/apt</td>\n",
       "      <td>{\"Wireless Internet\",\"Air conditioning\",Kitche...</td>\n",
       "      <td>3</td>\n",
       "      <td>1.0</td>\n",
       "      <td>Real Bed</td>\n",
       "      <td>strict</td>\n",
       "      <td>True</td>\n",
       "      <td>...</td>\n",
       "      <td>40.696524</td>\n",
       "      <td>-73.991617</td>\n",
       "      <td>Beautiful brownstone 1-bedroom</td>\n",
       "      <td>Brooklyn Heights</td>\n",
       "      <td>2</td>\n",
       "      <td>100.0</td>\n",
       "      <td>https://a0.muscache.com/im/pictures/6d7cbbf7-c...</td>\n",
       "      <td>11201</td>\n",
       "      <td>1.0</td>\n",
       "      <td>1.0</td>\n",
       "    </tr>\n",
       "    <tr>\n",
       "      <th>1</th>\n",
       "      <td>6304928</td>\n",
       "      <td>5.129899</td>\n",
       "      <td>Apartment</td>\n",
       "      <td>Entire home/apt</td>\n",
       "      <td>{\"Wireless Internet\",\"Air conditioning\",Kitche...</td>\n",
       "      <td>7</td>\n",
       "      <td>1.0</td>\n",
       "      <td>Real Bed</td>\n",
       "      <td>strict</td>\n",
       "      <td>True</td>\n",
       "      <td>...</td>\n",
       "      <td>40.766115</td>\n",
       "      <td>-73.989040</td>\n",
       "      <td>Superb 3BR Apt Located Near Times Square</td>\n",
       "      <td>Hell's Kitchen</td>\n",
       "      <td>6</td>\n",
       "      <td>93.0</td>\n",
       "      <td>https://a0.muscache.com/im/pictures/348a55fe-4...</td>\n",
       "      <td>10019</td>\n",
       "      <td>3.0</td>\n",
       "      <td>3.0</td>\n",
       "    </tr>\n",
       "    <tr>\n",
       "      <th>2</th>\n",
       "      <td>7919400</td>\n",
       "      <td>4.976734</td>\n",
       "      <td>Apartment</td>\n",
       "      <td>Entire home/apt</td>\n",
       "      <td>{TV,\"Cable TV\",\"Wireless Internet\",\"Air condit...</td>\n",
       "      <td>5</td>\n",
       "      <td>1.0</td>\n",
       "      <td>Real Bed</td>\n",
       "      <td>moderate</td>\n",
       "      <td>True</td>\n",
       "      <td>...</td>\n",
       "      <td>40.808110</td>\n",
       "      <td>-73.943756</td>\n",
       "      <td>The Garden Oasis</td>\n",
       "      <td>Harlem</td>\n",
       "      <td>10</td>\n",
       "      <td>92.0</td>\n",
       "      <td>https://a0.muscache.com/im/pictures/6fae5362-9...</td>\n",
       "      <td>10027</td>\n",
       "      <td>1.0</td>\n",
       "      <td>3.0</td>\n",
       "    </tr>\n",
       "    <tr>\n",
       "      <th>3</th>\n",
       "      <td>13418779</td>\n",
       "      <td>6.620073</td>\n",
       "      <td>House</td>\n",
       "      <td>Entire home/apt</td>\n",
       "      <td>{TV,\"Cable TV\",Internet,\"Wireless Internet\",Ki...</td>\n",
       "      <td>4</td>\n",
       "      <td>1.0</td>\n",
       "      <td>Real Bed</td>\n",
       "      <td>flexible</td>\n",
       "      <td>True</td>\n",
       "      <td>...</td>\n",
       "      <td>37.772004</td>\n",
       "      <td>-122.431619</td>\n",
       "      <td>Beautiful Flat in the Heart of SF!</td>\n",
       "      <td>Lower Haight</td>\n",
       "      <td>0</td>\n",
       "      <td>NaN</td>\n",
       "      <td>https://a0.muscache.com/im/pictures/72208dad-9...</td>\n",
       "      <td>94117</td>\n",
       "      <td>2.0</td>\n",
       "      <td>2.0</td>\n",
       "    </tr>\n",
       "    <tr>\n",
       "      <th>4</th>\n",
       "      <td>3808709</td>\n",
       "      <td>4.744932</td>\n",
       "      <td>Apartment</td>\n",
       "      <td>Entire home/apt</td>\n",
       "      <td>{TV,Internet,\"Wireless Internet\",\"Air conditio...</td>\n",
       "      <td>2</td>\n",
       "      <td>1.0</td>\n",
       "      <td>Real Bed</td>\n",
       "      <td>moderate</td>\n",
       "      <td>True</td>\n",
       "      <td>...</td>\n",
       "      <td>38.925627</td>\n",
       "      <td>-77.034596</td>\n",
       "      <td>Great studio in midtown DC</td>\n",
       "      <td>Columbia Heights</td>\n",
       "      <td>4</td>\n",
       "      <td>40.0</td>\n",
       "      <td>NaN</td>\n",
       "      <td>20009</td>\n",
       "      <td>0.0</td>\n",
       "      <td>1.0</td>\n",
       "    </tr>\n",
       "  </tbody>\n",
       "</table>\n",
       "<p>5 rows × 29 columns</p>\n",
       "</div>"
      ],
      "text/plain": [
       "         id  log_price property_type        room_type  \\\n",
       "0   6901257   5.010635     Apartment  Entire home/apt   \n",
       "1   6304928   5.129899     Apartment  Entire home/apt   \n",
       "2   7919400   4.976734     Apartment  Entire home/apt   \n",
       "3  13418779   6.620073         House  Entire home/apt   \n",
       "4   3808709   4.744932     Apartment  Entire home/apt   \n",
       "\n",
       "                                           amenities  accommodates  bathrooms  \\\n",
       "0  {\"Wireless Internet\",\"Air conditioning\",Kitche...             3        1.0   \n",
       "1  {\"Wireless Internet\",\"Air conditioning\",Kitche...             7        1.0   \n",
       "2  {TV,\"Cable TV\",\"Wireless Internet\",\"Air condit...             5        1.0   \n",
       "3  {TV,\"Cable TV\",Internet,\"Wireless Internet\",Ki...             4        1.0   \n",
       "4  {TV,Internet,\"Wireless Internet\",\"Air conditio...             2        1.0   \n",
       "\n",
       "   bed_type cancellation_policy  cleaning_fee  ...   latitude   longitude  \\\n",
       "0  Real Bed              strict          True  ...  40.696524  -73.991617   \n",
       "1  Real Bed              strict          True  ...  40.766115  -73.989040   \n",
       "2  Real Bed            moderate          True  ...  40.808110  -73.943756   \n",
       "3  Real Bed            flexible          True  ...  37.772004 -122.431619   \n",
       "4  Real Bed            moderate          True  ...  38.925627  -77.034596   \n",
       "\n",
       "                                       name     neighbourhood  \\\n",
       "0            Beautiful brownstone 1-bedroom  Brooklyn Heights   \n",
       "1  Superb 3BR Apt Located Near Times Square    Hell's Kitchen   \n",
       "2                          The Garden Oasis            Harlem   \n",
       "3        Beautiful Flat in the Heart of SF!      Lower Haight   \n",
       "4                Great studio in midtown DC  Columbia Heights   \n",
       "\n",
       "  number_of_reviews review_scores_rating  \\\n",
       "0                 2                100.0   \n",
       "1                 6                 93.0   \n",
       "2                10                 92.0   \n",
       "3                 0                  NaN   \n",
       "4                 4                 40.0   \n",
       "\n",
       "                                       thumbnail_url zipcode bedrooms  beds  \n",
       "0  https://a0.muscache.com/im/pictures/6d7cbbf7-c...   11201      1.0   1.0  \n",
       "1  https://a0.muscache.com/im/pictures/348a55fe-4...   10019      3.0   3.0  \n",
       "2  https://a0.muscache.com/im/pictures/6fae5362-9...   10027      1.0   3.0  \n",
       "3  https://a0.muscache.com/im/pictures/72208dad-9...   94117      2.0   2.0  \n",
       "4                                                NaN   20009      0.0   1.0  \n",
       "\n",
       "[5 rows x 29 columns]"
      ]
     },
     "execution_count": 6,
     "metadata": {},
     "output_type": "execute_result"
    }
   ],
   "source": [
    "# Load the dataset into a pandas DataFrame\n",
    "df = pd.read_csv(\"Airbnb_data.csv\")\n",
    "\n",
    "# Display the first few rows to check if the data is loaded correctly\n",
    "df.head()"
   ]
  },
  {
   "cell_type": "markdown",
   "id": "0cb2adea-4bc3-4772-8e59-0050a71abc0f",
   "metadata": {},
   "source": [
    "1. Data Exploration and Processing"
   ]
  },
  {
   "cell_type": "code",
   "execution_count": 8,
   "id": "a6accf5f-0601-4270-883a-0998e46922db",
   "metadata": {},
   "outputs": [
    {
     "name": "stdout",
     "output_type": "stream",
     "text": [
      "<class 'pandas.core.frame.DataFrame'>\n",
      "RangeIndex: 74111 entries, 0 to 74110\n",
      "Data columns (total 29 columns):\n",
      " #   Column                  Non-Null Count  Dtype  \n",
      "---  ------                  --------------  -----  \n",
      " 0   id                      74111 non-null  int64  \n",
      " 1   log_price               74111 non-null  float64\n",
      " 2   property_type           74111 non-null  object \n",
      " 3   room_type               74111 non-null  object \n",
      " 4   amenities               74111 non-null  object \n",
      " 5   accommodates            74111 non-null  int64  \n",
      " 6   bathrooms               73911 non-null  float64\n",
      " 7   bed_type                74111 non-null  object \n",
      " 8   cancellation_policy     74111 non-null  object \n",
      " 9   cleaning_fee            74111 non-null  bool   \n",
      " 10  city                    74111 non-null  object \n",
      " 11  description             74111 non-null  object \n",
      " 12  first_review            58247 non-null  object \n",
      " 13  host_has_profile_pic    73923 non-null  object \n",
      " 14  host_identity_verified  73923 non-null  object \n",
      " 15  host_response_rate      55812 non-null  object \n",
      " 16  host_since              73923 non-null  object \n",
      " 17  instant_bookable        74111 non-null  object \n",
      " 18  last_review             58284 non-null  object \n",
      " 19  latitude                74111 non-null  float64\n",
      " 20  longitude               74111 non-null  float64\n",
      " 21  name                    74111 non-null  object \n",
      " 22  neighbourhood           67239 non-null  object \n",
      " 23  number_of_reviews       74111 non-null  int64  \n",
      " 24  review_scores_rating    57389 non-null  float64\n",
      " 25  thumbnail_url           65895 non-null  object \n",
      " 26  zipcode                 73143 non-null  object \n",
      " 27  bedrooms                74020 non-null  float64\n",
      " 28  beds                    73980 non-null  float64\n",
      "dtypes: bool(1), float64(7), int64(3), object(18)\n",
      "memory usage: 15.9+ MB\n"
     ]
    }
   ],
   "source": [
    "# Display basic information about the dataset\n",
    "df.info()"
   ]
  },
  {
   "cell_type": "code",
   "execution_count": 10,
   "id": "c3625192-7b2b-4942-9b19-5369f98dc691",
   "metadata": {},
   "outputs": [
    {
     "data": {
      "text/html": [
       "<div>\n",
       "<style scoped>\n",
       "    .dataframe tbody tr th:only-of-type {\n",
       "        vertical-align: middle;\n",
       "    }\n",
       "\n",
       "    .dataframe tbody tr th {\n",
       "        vertical-align: top;\n",
       "    }\n",
       "\n",
       "    .dataframe thead th {\n",
       "        text-align: right;\n",
       "    }\n",
       "</style>\n",
       "<table border=\"1\" class=\"dataframe\">\n",
       "  <thead>\n",
       "    <tr style=\"text-align: right;\">\n",
       "      <th></th>\n",
       "      <th>id</th>\n",
       "      <th>log_price</th>\n",
       "      <th>accommodates</th>\n",
       "      <th>bathrooms</th>\n",
       "      <th>latitude</th>\n",
       "      <th>longitude</th>\n",
       "      <th>number_of_reviews</th>\n",
       "      <th>review_scores_rating</th>\n",
       "      <th>bedrooms</th>\n",
       "      <th>beds</th>\n",
       "    </tr>\n",
       "  </thead>\n",
       "  <tbody>\n",
       "    <tr>\n",
       "      <th>count</th>\n",
       "      <td>7.411100e+04</td>\n",
       "      <td>74111.000000</td>\n",
       "      <td>74111.000000</td>\n",
       "      <td>73911.000000</td>\n",
       "      <td>74111.000000</td>\n",
       "      <td>74111.000000</td>\n",
       "      <td>74111.000000</td>\n",
       "      <td>57389.000000</td>\n",
       "      <td>74020.000000</td>\n",
       "      <td>73980.000000</td>\n",
       "    </tr>\n",
       "    <tr>\n",
       "      <th>mean</th>\n",
       "      <td>1.126662e+07</td>\n",
       "      <td>4.782069</td>\n",
       "      <td>3.155146</td>\n",
       "      <td>1.235263</td>\n",
       "      <td>38.445958</td>\n",
       "      <td>-92.397525</td>\n",
       "      <td>20.900568</td>\n",
       "      <td>94.067365</td>\n",
       "      <td>1.265793</td>\n",
       "      <td>1.710868</td>\n",
       "    </tr>\n",
       "    <tr>\n",
       "      <th>std</th>\n",
       "      <td>6.081735e+06</td>\n",
       "      <td>0.717394</td>\n",
       "      <td>2.153589</td>\n",
       "      <td>0.582044</td>\n",
       "      <td>3.080167</td>\n",
       "      <td>21.705322</td>\n",
       "      <td>37.828641</td>\n",
       "      <td>7.836556</td>\n",
       "      <td>0.852143</td>\n",
       "      <td>1.254142</td>\n",
       "    </tr>\n",
       "    <tr>\n",
       "      <th>min</th>\n",
       "      <td>3.440000e+02</td>\n",
       "      <td>0.000000</td>\n",
       "      <td>1.000000</td>\n",
       "      <td>0.000000</td>\n",
       "      <td>33.338905</td>\n",
       "      <td>-122.511500</td>\n",
       "      <td>0.000000</td>\n",
       "      <td>20.000000</td>\n",
       "      <td>0.000000</td>\n",
       "      <td>0.000000</td>\n",
       "    </tr>\n",
       "    <tr>\n",
       "      <th>25%</th>\n",
       "      <td>6.261964e+06</td>\n",
       "      <td>4.317488</td>\n",
       "      <td>2.000000</td>\n",
       "      <td>1.000000</td>\n",
       "      <td>34.127908</td>\n",
       "      <td>-118.342374</td>\n",
       "      <td>1.000000</td>\n",
       "      <td>92.000000</td>\n",
       "      <td>1.000000</td>\n",
       "      <td>1.000000</td>\n",
       "    </tr>\n",
       "    <tr>\n",
       "      <th>50%</th>\n",
       "      <td>1.225415e+07</td>\n",
       "      <td>4.709530</td>\n",
       "      <td>2.000000</td>\n",
       "      <td>1.000000</td>\n",
       "      <td>40.662138</td>\n",
       "      <td>-76.996965</td>\n",
       "      <td>6.000000</td>\n",
       "      <td>96.000000</td>\n",
       "      <td>1.000000</td>\n",
       "      <td>1.000000</td>\n",
       "    </tr>\n",
       "    <tr>\n",
       "      <th>75%</th>\n",
       "      <td>1.640226e+07</td>\n",
       "      <td>5.220356</td>\n",
       "      <td>4.000000</td>\n",
       "      <td>1.000000</td>\n",
       "      <td>40.746096</td>\n",
       "      <td>-73.954660</td>\n",
       "      <td>23.000000</td>\n",
       "      <td>100.000000</td>\n",
       "      <td>1.000000</td>\n",
       "      <td>2.000000</td>\n",
       "    </tr>\n",
       "    <tr>\n",
       "      <th>max</th>\n",
       "      <td>2.123090e+07</td>\n",
       "      <td>7.600402</td>\n",
       "      <td>16.000000</td>\n",
       "      <td>8.000000</td>\n",
       "      <td>42.390437</td>\n",
       "      <td>-70.985047</td>\n",
       "      <td>605.000000</td>\n",
       "      <td>100.000000</td>\n",
       "      <td>10.000000</td>\n",
       "      <td>18.000000</td>\n",
       "    </tr>\n",
       "  </tbody>\n",
       "</table>\n",
       "</div>"
      ],
      "text/plain": [
       "                 id     log_price  accommodates     bathrooms      latitude  \\\n",
       "count  7.411100e+04  74111.000000  74111.000000  73911.000000  74111.000000   \n",
       "mean   1.126662e+07      4.782069      3.155146      1.235263     38.445958   \n",
       "std    6.081735e+06      0.717394      2.153589      0.582044      3.080167   \n",
       "min    3.440000e+02      0.000000      1.000000      0.000000     33.338905   \n",
       "25%    6.261964e+06      4.317488      2.000000      1.000000     34.127908   \n",
       "50%    1.225415e+07      4.709530      2.000000      1.000000     40.662138   \n",
       "75%    1.640226e+07      5.220356      4.000000      1.000000     40.746096   \n",
       "max    2.123090e+07      7.600402     16.000000      8.000000     42.390437   \n",
       "\n",
       "          longitude  number_of_reviews  review_scores_rating      bedrooms  \\\n",
       "count  74111.000000       74111.000000          57389.000000  74020.000000   \n",
       "mean     -92.397525          20.900568             94.067365      1.265793   \n",
       "std       21.705322          37.828641              7.836556      0.852143   \n",
       "min     -122.511500           0.000000             20.000000      0.000000   \n",
       "25%     -118.342374           1.000000             92.000000      1.000000   \n",
       "50%      -76.996965           6.000000             96.000000      1.000000   \n",
       "75%      -73.954660          23.000000            100.000000      1.000000   \n",
       "max      -70.985047         605.000000            100.000000     10.000000   \n",
       "\n",
       "               beds  \n",
       "count  73980.000000  \n",
       "mean       1.710868  \n",
       "std        1.254142  \n",
       "min        0.000000  \n",
       "25%        1.000000  \n",
       "50%        1.000000  \n",
       "75%        2.000000  \n",
       "max       18.000000  "
      ]
     },
     "execution_count": 10,
     "metadata": {},
     "output_type": "execute_result"
    }
   ],
   "source": [
    "# Display summary statistics for numerical features\n",
    "df.describe()"
   ]
  },
  {
   "cell_type": "code",
   "execution_count": 16,
   "id": "12d63971-5411-4fd6-8882-2f26d5785b89",
   "metadata": {},
   "outputs": [
    {
     "name": "stdout",
     "output_type": "stream",
     "text": [
      "Missing values in each column:\n",
      " bathrooms                   200\n",
      "first_review              15864\n",
      "host_has_profile_pic        188\n",
      "host_identity_verified      188\n",
      "host_response_rate        18299\n",
      "host_since                  188\n",
      "last_review               15827\n",
      "neighbourhood              6872\n",
      "review_scores_rating      16722\n",
      "thumbnail_url              8216\n",
      "zipcode                     968\n",
      "bedrooms                     91\n",
      "beds                        131\n",
      "dtype: int64\n"
     ]
    }
   ],
   "source": [
    "# Count missing values in each column\n",
    "missing_values = df.isnull().sum()\n",
    "\n",
    "# Show only columns with missing values\n",
    "missing_values = missing_values[missing_values > 0]\n",
    "\n",
    "# Print missing values\n",
    "print(\"Missing values in each column:\\n\", missing_values)"
   ]
  },
  {
   "cell_type": "code",
   "execution_count": 18,
   "id": "6393e599-1731-4419-8a2c-0501262adfc1",
   "metadata": {},
   "outputs": [
    {
     "name": "stdout",
     "output_type": "stream",
     "text": [
      "property_type: 35 unique values\n",
      "room_type: 3 unique values\n",
      "amenities: 67122 unique values\n",
      "bed_type: 5 unique values\n",
      "cancellation_policy: 5 unique values\n",
      "city: 6 unique values\n",
      "description: 73474 unique values\n",
      "first_review: 2554 unique values\n",
      "host_has_profile_pic: 2 unique values\n",
      "host_identity_verified: 2 unique values\n",
      "host_response_rate: 80 unique values\n",
      "host_since: 3087 unique values\n",
      "instant_bookable: 2 unique values\n",
      "last_review: 1371 unique values\n",
      "name: 73331 unique values\n",
      "neighbourhood: 619 unique values\n",
      "thumbnail_url: 65883 unique values\n",
      "zipcode: 668 unique values\n"
     ]
    }
   ],
   "source": [
    "# Display unique counts for categorical variables\n",
    "categorical_cols = df.select_dtypes(include=[\"object\"]).columns  # Select text-based columns\n",
    "for col in categorical_cols:\n",
    "    print(f\"{col}: {df[col].nunique()} unique values\")"
   ]
  },
  {
   "cell_type": "code",
   "execution_count": 22,
   "id": "03b38331-0bd1-4c6f-a7fd-2a0875364e48",
   "metadata": {},
   "outputs": [
    {
     "name": "stdout",
     "output_type": "stream",
     "text": [
      "Number of duplicate rows: 0\n"
     ]
    }
   ],
   "source": [
    "# Count duplicate rows\n",
    "duplicate_count = df.duplicated().sum()\n",
    "print(f\"Number of duplicate rows: {duplicate_count}\")"
   ]
  },
  {
   "cell_type": "code",
   "execution_count": 26,
   "id": "ff7add04-fa92-4a89-83a7-4016e8580aed",
   "metadata": {},
   "outputs": [
    {
     "name": "stdout",
     "output_type": "stream",
     "text": [
      "Columns with outliers and their counts: {'log_price': 1532, 'accommodates': 3604, 'bathrooms': 15812, 'number_of_reviews': 8203, 'review_scores_rating': 1719, 'bedrooms': 24236, 'beds': 5686}\n"
     ]
    }
   ],
   "source": [
    "import numpy as np\n",
    "\n",
    "# Function to detect outliers using IQR\n",
    "def detect_outliers_iqr(df, column):\n",
    "    Q1 = df[column].quantile(0.25)\n",
    "    Q3 = df[column].quantile(0.75)\n",
    "    IQR = Q3 - Q1\n",
    "    lower_bound = Q1 - 1.5 * IQR\n",
    "    upper_bound = Q3 + 1.5 * IQR\n",
    "    outliers = df[(df[column] < lower_bound) | (df[column] > upper_bound)]\n",
    "    return outliers.shape[0]\n",
    "\n",
    "# Check for outliers in all numerical columns\n",
    "numeric_cols = df.select_dtypes(include=[np.number]).columns\n",
    "outlier_counts = {col: detect_outliers_iqr(df, col) for col in numeric_cols}\n",
    "\n",
    "# Display columns with outliers\n",
    "outlier_counts = {k: v for k, v in outlier_counts.items() if v > 0}\n",
    "print(\"Columns with outliers and their counts:\", outlier_counts)"
   ]
  },
  {
   "cell_type": "code",
   "execution_count": 28,
   "id": "8dc34bb2-e31d-4ffd-9059-18ca3ae466d9",
   "metadata": {},
   "outputs": [
    {
     "data": {
      "image/png": "[encoded data removed]",
      "text/plain": [
       "<Figure size 1200x600 with 1 Axes>"
      ]
     },
     "metadata": {},
     "output_type": "display_data"
    }
   ],
   "source": [
    "import matplotlib.pyplot as plt\n",
    "import seaborn as sns\n",
    "\n",
    "# Plot boxplots for numerical columns\n",
    "plt.figure(figsize=(12, 6))\n",
    "df[numeric_cols].boxplot(rot=90)\n",
    "plt.title(\"Boxplot of Numerical Columns\")\n",
    "plt.show()"
   ]
  },
  {
   "cell_type": "code",
   "execution_count": 30,
   "id": "095aa267-a39f-4f58-96ab-5f5a5a83cac3",
   "metadata": {},
   "outputs": [
    {
     "name": "stdout",
     "output_type": "stream",
     "text": [
      "Outliers handled using capping method.\n"
     ]
    }
   ],
   "source": [
    "# Function to cap outliers using IQR\n",
    "def cap_outliers(df, column):\n",
    "    Q1 = df[column].quantile(0.25)\n",
    "    Q3 = df[column].quantile(0.75)\n",
    "    IQR = Q3 - Q1\n",
    "    lower_bound = Q1 - 1.5 * IQR\n",
    "    upper_bound = Q3 + 1.5 * IQR\n",
    "\n",
    "    df[column] = np.where(df[column] < lower_bound, lower_bound, df[column])\n",
    "    df[column] = np.where(df[column] > upper_bound, upper_bound, df[column])\n",
    "\n",
    "# Apply capping on all numerical columns with outliers\n",
    "for col in outlier_counts.keys():\n",
    "    cap_outliers(df, col)\n",
    "\n",
    "print(\"Outliers handled using capping method.\")"
   ]
  },
  {
   "cell_type": "markdown",
   "id": "174903f2-355f-42e9-a068-338d8cbe99d3",
   "metadata": {},
   "source": [
    "Feature Engineering"
   ]
  },
  {
   "cell_type": "code",
   "execution_count": 77,
   "id": "17fcd581-eb29-4779-a519-f565d110165d",
   "metadata": {},
   "outputs": [],
   "source": [
    "# Count the number of amenities\n",
    "df['amenities_count'] = df['amenities'].apply(lambda x: len(x.split(',')) if isinstance(x, str) else 0)"
   ]
  },
  {
   "cell_type": "code",
   "execution_count": 73,
   "id": "a2534df7-8574-4604-b7ad-e671ef938f16",
   "metadata": {},
   "outputs": [],
   "source": [
    "df['price_per_accommodate'] = df['log_price'] / df['accommodates']"
   ]
  },
  {
   "cell_type": "code",
   "execution_count": 79,
   "id": "a20765f2-2b33-43f3-a3d8-bec54286b8d8",
   "metadata": {},
   "outputs": [
    {
     "data": {
      "text/html": [
       "<div>\n",
       "<style scoped>\n",
       "    .dataframe tbody tr th:only-of-type {\n",
       "        vertical-align: middle;\n",
       "    }\n",
       "\n",
       "    .dataframe tbody tr th {\n",
       "        vertical-align: top;\n",
       "    }\n",
       "\n",
       "    .dataframe thead th {\n",
       "        text-align: right;\n",
       "    }\n",
       "</style>\n",
       "<table border=\"1\" class=\"dataframe\">\n",
       "  <thead>\n",
       "    <tr style=\"text-align: right;\">\n",
       "      <th></th>\n",
       "      <th>id</th>\n",
       "      <th>log_price</th>\n",
       "      <th>property_type</th>\n",
       "      <th>room_type</th>\n",
       "      <th>amenities</th>\n",
       "      <th>accommodates</th>\n",
       "      <th>bathrooms</th>\n",
       "      <th>bed_type</th>\n",
       "      <th>cancellation_policy</th>\n",
       "      <th>cleaning_fee</th>\n",
       "      <th>...</th>\n",
       "      <th>last_review_day</th>\n",
       "      <th>first_review_year</th>\n",
       "      <th>first_review_month</th>\n",
       "      <th>first_review_day</th>\n",
       "      <th>host_since_year</th>\n",
       "      <th>host_since_month</th>\n",
       "      <th>host_since_day</th>\n",
       "      <th>host_tenure</th>\n",
       "      <th>amenities_count</th>\n",
       "      <th>price_per_accommodate</th>\n",
       "    </tr>\n",
       "  </thead>\n",
       "  <tbody>\n",
       "    <tr>\n",
       "      <th>0</th>\n",
       "      <td>6901257</td>\n",
       "      <td>5.010635</td>\n",
       "      <td>Apartment</td>\n",
       "      <td>Entire home/apt</td>\n",
       "      <td>{\"Wireless Internet\",\"Air conditioning\",Kitche...</td>\n",
       "      <td>3.0</td>\n",
       "      <td>1.0</td>\n",
       "      <td>Real Bed</td>\n",
       "      <td>strict</td>\n",
       "      <td>True</td>\n",
       "      <td>...</td>\n",
       "      <td>18.0</td>\n",
       "      <td>2016.0</td>\n",
       "      <td>6.0</td>\n",
       "      <td>18.0</td>\n",
       "      <td>2012.0</td>\n",
       "      <td>3.0</td>\n",
       "      <td>26.0</td>\n",
       "      <td>13.0</td>\n",
       "      <td>9</td>\n",
       "      <td>1.670212</td>\n",
       "    </tr>\n",
       "    <tr>\n",
       "      <th>1</th>\n",
       "      <td>6304928</td>\n",
       "      <td>5.129899</td>\n",
       "      <td>Apartment</td>\n",
       "      <td>Entire home/apt</td>\n",
       "      <td>{\"Wireless Internet\",\"Air conditioning\",Kitche...</td>\n",
       "      <td>7.0</td>\n",
       "      <td>1.0</td>\n",
       "      <td>Real Bed</td>\n",
       "      <td>strict</td>\n",
       "      <td>True</td>\n",
       "      <td>...</td>\n",
       "      <td>23.0</td>\n",
       "      <td>2017.0</td>\n",
       "      <td>8.0</td>\n",
       "      <td>5.0</td>\n",
       "      <td>2017.0</td>\n",
       "      <td>6.0</td>\n",
       "      <td>19.0</td>\n",
       "      <td>8.0</td>\n",
       "      <td>15</td>\n",
       "      <td>0.732843</td>\n",
       "    </tr>\n",
       "    <tr>\n",
       "      <th>2</th>\n",
       "      <td>7919400</td>\n",
       "      <td>4.976734</td>\n",
       "      <td>Apartment</td>\n",
       "      <td>Entire home/apt</td>\n",
       "      <td>{TV,\"Cable TV\",\"Wireless Internet\",\"Air condit...</td>\n",
       "      <td>5.0</td>\n",
       "      <td>1.0</td>\n",
       "      <td>Real Bed</td>\n",
       "      <td>moderate</td>\n",
       "      <td>True</td>\n",
       "      <td>...</td>\n",
       "      <td>14.0</td>\n",
       "      <td>2017.0</td>\n",
       "      <td>4.0</td>\n",
       "      <td>30.0</td>\n",
       "      <td>2016.0</td>\n",
       "      <td>10.0</td>\n",
       "      <td>25.0</td>\n",
       "      <td>9.0</td>\n",
       "      <td>19</td>\n",
       "      <td>0.995347</td>\n",
       "    </tr>\n",
       "    <tr>\n",
       "      <th>3</th>\n",
       "      <td>13418779</td>\n",
       "      <td>6.574657</td>\n",
       "      <td>House</td>\n",
       "      <td>Entire home/apt</td>\n",
       "      <td>{TV,\"Cable TV\",Internet,\"Wireless Internet\",Ki...</td>\n",
       "      <td>4.0</td>\n",
       "      <td>1.0</td>\n",
       "      <td>Real Bed</td>\n",
       "      <td>flexible</td>\n",
       "      <td>True</td>\n",
       "      <td>...</td>\n",
       "      <td>NaN</td>\n",
       "      <td>2016.0</td>\n",
       "      <td>NaN</td>\n",
       "      <td>NaN</td>\n",
       "      <td>2015.0</td>\n",
       "      <td>4.0</td>\n",
       "      <td>19.0</td>\n",
       "      <td>10.0</td>\n",
       "      <td>15</td>\n",
       "      <td>1.643664</td>\n",
       "    </tr>\n",
       "    <tr>\n",
       "      <th>4</th>\n",
       "      <td>3808709</td>\n",
       "      <td>4.744932</td>\n",
       "      <td>Apartment</td>\n",
       "      <td>Entire home/apt</td>\n",
       "      <td>{TV,Internet,\"Wireless Internet\",\"Air conditio...</td>\n",
       "      <td>2.0</td>\n",
       "      <td>1.0</td>\n",
       "      <td>Real Bed</td>\n",
       "      <td>moderate</td>\n",
       "      <td>True</td>\n",
       "      <td>...</td>\n",
       "      <td>22.0</td>\n",
       "      <td>2015.0</td>\n",
       "      <td>5.0</td>\n",
       "      <td>12.0</td>\n",
       "      <td>2015.0</td>\n",
       "      <td>3.0</td>\n",
       "      <td>1.0</td>\n",
       "      <td>10.0</td>\n",
       "      <td>12</td>\n",
       "      <td>2.372466</td>\n",
       "    </tr>\n",
       "  </tbody>\n",
       "</table>\n",
       "<p>5 rows × 41 columns</p>\n",
       "</div>"
      ],
      "text/plain": [
       "         id  log_price property_type        room_type  \\\n",
       "0   6901257   5.010635     Apartment  Entire home/apt   \n",
       "1   6304928   5.129899     Apartment  Entire home/apt   \n",
       "2   7919400   4.976734     Apartment  Entire home/apt   \n",
       "3  13418779   6.574657         House  Entire home/apt   \n",
       "4   3808709   4.744932     Apartment  Entire home/apt   \n",
       "\n",
       "                                           amenities  accommodates  bathrooms  \\\n",
       "0  {\"Wireless Internet\",\"Air conditioning\",Kitche...           3.0        1.0   \n",
       "1  {\"Wireless Internet\",\"Air conditioning\",Kitche...           7.0        1.0   \n",
       "2  {TV,\"Cable TV\",\"Wireless Internet\",\"Air condit...           5.0        1.0   \n",
       "3  {TV,\"Cable TV\",Internet,\"Wireless Internet\",Ki...           4.0        1.0   \n",
       "4  {TV,Internet,\"Wireless Internet\",\"Air conditio...           2.0        1.0   \n",
       "\n",
       "   bed_type cancellation_policy  cleaning_fee  ... last_review_day  \\\n",
       "0  Real Bed              strict          True  ...            18.0   \n",
       "1  Real Bed              strict          True  ...            23.0   \n",
       "2  Real Bed            moderate          True  ...            14.0   \n",
       "3  Real Bed            flexible          True  ...             NaN   \n",
       "4  Real Bed            moderate          True  ...            22.0   \n",
       "\n",
       "  first_review_year first_review_month first_review_day host_since_year  \\\n",
       "0            2016.0                6.0             18.0          2012.0   \n",
       "1            2017.0                8.0              5.0          2017.0   \n",
       "2            2017.0                4.0             30.0          2016.0   \n",
       "3            2016.0                NaN              NaN          2015.0   \n",
       "4            2015.0                5.0             12.0          2015.0   \n",
       "\n",
       "  host_since_month host_since_day host_tenure amenities_count  \\\n",
       "0              3.0           26.0        13.0               9   \n",
       "1              6.0           19.0         8.0              15   \n",
       "2             10.0           25.0         9.0              19   \n",
       "3              4.0           19.0        10.0              15   \n",
       "4              3.0            1.0        10.0              12   \n",
       "\n",
       "   price_per_accommodate  \n",
       "0               1.670212  \n",
       "1               0.732843  \n",
       "2               0.995347  \n",
       "3               1.643664  \n",
       "4               2.372466  \n",
       "\n",
       "[5 rows x 41 columns]"
      ]
     },
     "execution_count": 79,
     "metadata": {},
     "output_type": "execute_result"
    }
   ],
   "source": [
    "df.head()"
   ]
  },
  {
   "cell_type": "markdown",
   "id": "4df35cb2-0153-4527-ae53-0adf86b2b117",
   "metadata": {},
   "source": [
    "Categorical Encoding"
   ]
  },
  {
   "cell_type": "code",
   "execution_count": 82,
   "id": "3bde3b36-2112-4953-ae09-105e9f79b581",
   "metadata": {},
   "outputs": [
    {
     "name": "stdout",
     "output_type": "stream",
     "text": [
      "Categorical columns: Index(['property_type', 'room_type', 'amenities', 'bed_type',\n",
      "       'cancellation_policy', 'city', 'description', 'host_has_profile_pic',\n",
      "       'host_identity_verified', 'host_response_rate', 'instant_bookable',\n",
      "       'name', 'neighbourhood', 'thumbnail_url', 'zipcode'],\n",
      "      dtype='object')\n"
     ]
    }
   ],
   "source": [
    "# Get categorical columns\n",
    "categorical_cols = df.select_dtypes(include=['object']).columns\n",
    "print(\"Categorical columns:\", categorical_cols)"
   ]
  },
  {
   "cell_type": "code",
   "execution_count": 98,
   "id": "d88c4d2a-0346-4cef-8321-39fa12e4a519",
   "metadata": {},
   "outputs": [
    {
     "name": "stdout",
     "output_type": "stream",
     "text": [
      "  cancellation_policy  cancellation_policy_encoded\n",
      "0              strict                            2\n",
      "1              strict                            2\n",
      "2            moderate                            1\n",
      "3            flexible                            0\n",
      "4            moderate                            1\n"
     ]
    }
   ],
   "source": [
    "from sklearn.preprocessing import LabelEncoder\n",
    "\n",
    "# Apply label encoding\n",
    "label_encoder = LabelEncoder()\n",
    "df['cancellation_policy_encoded'] = label_encoder.fit_transform(df['cancellation_policy'])\n",
    "\n",
    "print(df[['cancellation_policy', 'cancellation_policy_encoded']].head()) # Check results"
   ]
  },
  {
   "cell_type": "code",
   "execution_count": 102,
   "id": "399a44be-fe41-4384-bb05-d1aabf8f4374",
   "metadata": {},
   "outputs": [
    {
     "name": "stdout",
     "output_type": "stream",
     "text": [
      "New dataset shape after encoding: (74111, 693)\n"
     ]
    }
   ],
   "source": [
    "# Apply one-hot encoding to categorical variables\n",
    "df = pd.get_dummies(df, columns=['room_type', 'property_type', 'neighbourhood'], drop_first=True)\n",
    "\n",
    "print(\"New dataset shape after encoding:\", df.shape)"
   ]
  },
  {
   "cell_type": "code",
   "execution_count": 106,
   "id": "99c2f695-6e76-43f2-be2c-c650f37626bc",
   "metadata": {},
   "outputs": [
    {
     "name": "stdout",
     "output_type": "stream",
     "text": [
      "<class 'pandas.core.frame.DataFrame'>\n",
      "RangeIndex: 74111 entries, 0 to 74110\n",
      "Columns: 693 entries, id to neighbourhood_Wrigleyville\n",
      "dtypes: bool(655), datetime64[ns](3), float64(20), int32(1), int64(2), object(12)\n",
      "memory usage: 67.5+ MB\n"
     ]
    }
   ],
   "source": [
    "df.info()"
   ]
  },
  {
   "cell_type": "markdown",
   "id": "93696989-985e-4e20-9ba2-0fad540816a8",
   "metadata": {},
   "source": [
    "Splitting the Dataset for training and testing"
   ]
  },
  {
   "cell_type": "code",
   "execution_count": 113,
   "id": "c948984a-8d7b-4b63-afab-3c881d9bade2",
   "metadata": {},
   "outputs": [
    {
     "name": "stdout",
     "output_type": "stream",
     "text": [
      "Training set: (51877, 692) (51877,)\n",
      "Validation set: (11117, 692) (11117,)\n",
      "Test set: (11117, 692) (11117,)\n"
     ]
    }
   ],
   "source": [
    "from sklearn.model_selection import train_test_split\n",
    "\n",
    "# Define target variable (Price)\n",
    "target = 'log_price'  # Change this if you're using log_price\n",
    "\n",
    "# Select feature columns (all except price)\n",
    "features = df.drop(columns=[target])\n",
    "\n",
    "# Target variable\n",
    "y = df[target]\n",
    "X = features\n",
    "\n",
    "# Split into train (70%), validation (15%), and test (15%) sets\n",
    "X_train, X_temp, y_train, y_temp = train_test_split(X, y, test_size=0.3, random_state=42)\n",
    "X_val, X_test, y_val, y_test = train_test_split(X_temp, y_temp, test_size=0.5, random_state=42)\n",
    "\n",
    "# Print dataset shapes\n",
    "print(\"Training set:\", X_train.shape, y_train.shape)\n",
    "print(\"Validation set:\", X_val.shape, y_val.shape)\n",
    "print(\"Test set:\", X_test.shape, y_test.shape)"
   ]
  },
  {
   "cell_type": "code",
   "execution_count": 117,
   "id": "26815e8e-12b6-4dcd-b873-ce283a4051fd",
   "metadata": {},
   "outputs": [
    {
     "name": "stdout",
     "output_type": "stream",
     "text": [
      "Mean price in training set: 4.775472175961437\n",
      "Mean price in validation set: 4.786188232479896\n",
      "Mean price in test set: 4.768821886160341\n"
     ]
    }
   ],
   "source": [
    "#To check data distribution after splitting\n",
    "print(\"Mean price in training set:\", y_train.mean())\n",
    "print(\"Mean price in validation set:\", y_val.mean())\n",
    "print(\"Mean price in test set:\", y_test.mean())"
   ]
  },
  {
   "cell_type": "markdown",
   "id": "4e6d550f-648a-45aa-8dc1-3d1b2c90abfa",
   "metadata": {},
   "source": [
    "Regression Model Development"
   ]
  },
  {
   "cell_type": "code",
   "execution_count": 15,
   "id": "cc0dd307-d399-45ed-8d6f-0637afbe08a1",
   "metadata": {},
   "outputs": [
    {
     "name": "stdout",
     "output_type": "stream",
     "text": [
      "         id  log_price property_type        room_type  \\\n",
      "0   6901257   5.010635     Apartment  Entire home/apt   \n",
      "1   6304928   5.129899     Apartment  Entire home/apt   \n",
      "2   7919400   4.976734     Apartment  Entire home/apt   \n",
      "3  13418779   6.620073         House  Entire home/apt   \n",
      "4   3808709   4.744932     Apartment  Entire home/apt   \n",
      "\n",
      "                                           amenities  accommodates  bathrooms  \\\n",
      "0  {\"Wireless Internet\",\"Air conditioning\",Kitche...             3        1.0   \n",
      "1  {\"Wireless Internet\",\"Air conditioning\",Kitche...             7        1.0   \n",
      "2  {TV,\"Cable TV\",\"Wireless Internet\",\"Air condit...             5        1.0   \n",
      "3  {TV,\"Cable TV\",Internet,\"Wireless Internet\",Ki...             4        1.0   \n",
      "4  {TV,Internet,\"Wireless Internet\",\"Air conditio...             2        1.0   \n",
      "\n",
      "   bed_type cancellation_policy  cleaning_fee  ...   latitude   longitude  \\\n",
      "0  Real Bed              strict          True  ...  40.696524  -73.991617   \n",
      "1  Real Bed              strict          True  ...  40.766115  -73.989040   \n",
      "2  Real Bed            moderate          True  ...  40.808110  -73.943756   \n",
      "3  Real Bed            flexible          True  ...  37.772004 -122.431619   \n",
      "4  Real Bed            moderate          True  ...  38.925627  -77.034596   \n",
      "\n",
      "                                       name     neighbourhood  \\\n",
      "0            Beautiful brownstone 1-bedroom  Brooklyn Heights   \n",
      "1  Superb 3BR Apt Located Near Times Square    Hell's Kitchen   \n",
      "2                          The Garden Oasis            Harlem   \n",
      "3        Beautiful Flat in the Heart of SF!      Lower Haight   \n",
      "4                Great studio in midtown DC  Columbia Heights   \n",
      "\n",
      "  number_of_reviews review_scores_rating  \\\n",
      "0                 2                100.0   \n",
      "1                 6                 93.0   \n",
      "2                10                 92.0   \n",
      "3                 0                  NaN   \n",
      "4                 4                 40.0   \n",
      "\n",
      "                                       thumbnail_url zipcode bedrooms  beds  \n",
      "0  https://a0.muscache.com/im/pictures/6d7cbbf7-c...   11201      1.0   1.0  \n",
      "1  https://a0.muscache.com/im/pictures/348a55fe-4...   10019      3.0   3.0  \n",
      "2  https://a0.muscache.com/im/pictures/6fae5362-9...   10027      1.0   3.0  \n",
      "3  https://a0.muscache.com/im/pictures/72208dad-9...   94117      2.0   2.0  \n",
      "4                                                NaN   20009      0.0   1.0  \n",
      "\n",
      "[5 rows x 29 columns]\n"
     ]
    }
   ],
   "source": [
    "import pandas as pd\n",
    "\n",
    "# Load the dataset (update the filename if needed)\n",
    "df = pd.read_csv(\"Airbnb_data.csv\")  # Use .xlsx if it's an Excel file\n",
    "\n",
    "# Display first few rows to confirm loading\n",
    "print(df.head())"
   ]
  },
  {
   "cell_type": "markdown",
   "id": "a65aea5e-2953-4bbf-90ab-c32e2f3b1443",
   "metadata": {},
   "source": [
    "Linear Regression Model (next 4 code snippets)"
   ]
  },
  {
   "cell_type": "code",
   "execution_count": 9,
   "id": "0dc262e6-0b03-4c42-a245-a36f74227636",
   "metadata": {},
   "outputs": [
    {
     "name": "stdout",
     "output_type": "stream",
     "text": [
      "Final dataset shape: (74111, 9)\n",
      "Missing values: 0\n"
     ]
    }
   ],
   "source": [
    "import pandas as pd\n",
    "import numpy as np\n",
    "from sklearn.model_selection import train_test_split\n",
    "from sklearn.preprocessing import StandardScaler\n",
    "from sklearn.linear_model import LinearRegression\n",
    "from sklearn.metrics import mean_squared_error, r2_score\n",
    "\n",
    "# Define the target variable\n",
    "target = 'log_price'  # If using log-transformed price, change to 'log_price'\n",
    "X = df.drop(columns=[target])  # Features\n",
    "y = df[target]  # Target\n",
    "\n",
    "# Ensure only numeric columns remain\n",
    "X = X.select_dtypes(include=[np.number])\n",
    "\n",
    "# Fill any remaining missing values with median\n",
    "X.fillna(X.median(), inplace=True)\n",
    "\n",
    "# Print dataset info\n",
    "print(\"Final dataset shape:\", X.shape)\n",
    "print(\"Missing values:\", X.isnull().sum().sum())  # Should print 0"
   ]
  },
  {
   "cell_type": "code",
   "execution_count": 13,
   "id": "87c28fab-2020-4de1-a7bc-a2ece5b5e6d4",
   "metadata": {},
   "outputs": [
    {
     "name": "stdout",
     "output_type": "stream",
     "text": [
      "Training set: (51877, 9) (51877,)\n",
      "Validation set: (11117, 9) (11117,)\n",
      "Test set: (11117, 9) (11117,)\n"
     ]
    }
   ],
   "source": [
    "# Split into train (70%), validation (15%), and test (15%)\n",
    "X_train, X_temp, y_train, y_temp = train_test_split(X, y, test_size=0.3, random_state=42)\n",
    "X_val, X_test, y_val, y_test = train_test_split(X_temp, y_temp, test_size=0.5, random_state=42)\n",
    "\n",
    "# Print shapes\n",
    "print(\"Training set:\", X_train.shape, y_train.shape)\n",
    "print(\"Validation set:\", X_val.shape, y_val.shape)\n",
    "print(\"Test set:\", X_test.shape, y_test.shape)"
   ]
  },
  {
   "cell_type": "code",
   "execution_count": 15,
   "id": "97fdc734-b346-482f-9d70-65dbe95d6bd0",
   "metadata": {},
   "outputs": [
    {
     "name": "stdout",
     "output_type": "stream",
     "text": [
      "Feature scaling complete!\n"
     ]
    }
   ],
   "source": [
    "# Initialize the scaler\n",
    "scaler = StandardScaler()\n",
    "\n",
    "# Fit on training data and transform all sets\n",
    "X_train = scaler.fit_transform(X_train)\n",
    "X_val = scaler.transform(X_val)\n",
    "X_test = scaler.transform(X_test)\n",
    "\n",
    "print(\"Feature scaling complete!\")"
   ]
  },
  {
   "cell_type": "code",
   "execution_count": 17,
   "id": "b1bbea2e-cd7f-4034-ae3d-eeea2c4b1e6e",
   "metadata": {},
   "outputs": [
    {
     "name": "stdout",
     "output_type": "stream",
     "text": [
      "Regression Model RMSE: 0.57\n",
      "Regression Model R²: 0.3471\n"
     ]
    }
   ],
   "source": [
    "# Initialize and train the model\n",
    "model = LinearRegression()\n",
    "model.fit(X_train, y_train)\n",
    "\n",
    "# Predict on validation data\n",
    "y_val_pred = model.predict(X_val)\n",
    "\n",
    "# Evaluate model performance\n",
    "rmse = np.sqrt(mean_squared_error(y_val, y_val_pred))\n",
    "r2 = r2_score(y_val, y_val_pred)\n",
    "\n",
    "print(f\"Regression Model RMSE: {rmse:.2f}\")\n",
    "print(f\"Regression Model R²: {r2:.4f}\")"
   ]
  },
  {
   "cell_type": "code",
   "execution_count": 19,
   "id": "f8430504-a10c-48a7-8b58-eea7c0b5641d",
   "metadata": {},
   "outputs": [
    {
     "name": "stdout",
     "output_type": "stream",
     "text": [
      "Top 10 Important Features:\n",
      "                Feature  Coefficient\n",
      "1          accommodates     0.388126\n",
      "3              latitude     0.156193\n",
      "7              bedrooms     0.091380\n",
      "6  review_scores_rating     0.063525\n",
      "2             bathrooms     0.049129\n",
      "0                    id    -0.002307\n",
      "5     number_of_reviews    -0.032630\n",
      "8                  beds    -0.079982\n",
      "4             longitude    -0.132299\n"
     ]
    }
   ],
   "source": [
    "# Get feature importance from model coefficients\n",
    "feature_importance = pd.DataFrame({'Feature': X.columns, 'Coefficient': model.coef_})\n",
    "feature_importance = feature_importance.sort_values(by='Coefficient', ascending=False)\n",
    "\n",
    "print(\"Top 10 Important Features:\")\n",
    "print(feature_importance.head(10))"
   ]
  },
  {
   "cell_type": "markdown",
   "id": "46604178-93cc-44f7-a1bd-2f92b1559efa",
   "metadata": {},
   "source": [
    "Random Forest Regression Model"
   ]
  },
  {
   "cell_type": "code",
   "execution_count": 29,
   "id": "b8258cee-83ed-46fe-af6d-2a55c6bbc241",
   "metadata": {},
   "outputs": [
    {
     "name": "stdout",
     "output_type": "stream",
     "text": [
      "RMSE: 0.44\n",
      "MAE: 0.32\n",
      "R²: 0.6320\n"
     ]
    }
   ],
   "source": [
    "import pandas as pd\n",
    "import numpy as np\n",
    "from sklearn.model_selection import train_test_split\n",
    "from sklearn.ensemble import RandomForestRegressor\n",
    "from sklearn.metrics import mean_squared_error, r2_score, mean_absolute_error\n",
    "\n",
    "# Step 1: Define target and features\n",
    "target = 'log_price'  # Update if needed\n",
    "X = df.drop(columns=[target])\n",
    "y = df[target]\n",
    "\n",
    "# Keep only numeric features\n",
    "X = X.select_dtypes(include=[np.number])\n",
    "\n",
    "# Fill missing values\n",
    "X.fillna(X.median(), inplace=True)\n",
    "\n",
    "# Step 2: Split the dataset\n",
    "X_train, X_temp, y_train, y_temp = train_test_split(X, y, test_size=0.3, random_state=42)\n",
    "X_val, X_test, y_val, y_test = train_test_split(X_temp, y_temp, test_size=0.5, random_state=42)\n",
    "\n",
    "# Step 3: Train Random Forest Regression Model\n",
    "rf_model = RandomForestRegressor(n_estimators=100, random_state=42)\n",
    "rf_model.fit(X_train, y_train)\n",
    "\n",
    "# Step 4: Predict Prices on Test Data\n",
    "y_test_pred = rf_model.predict(X_test)\n",
    "\n",
    "# Step 5: Evaluate Performance\n",
    "rmse = np.sqrt(mean_squared_error(y_test, y_test_pred))\n",
    "mae = mean_absolute_error(y_test, y_test_pred)\n",
    "r2 = r2_score(y_test, y_test_pred)\n",
    "\n",
    "print(f\"RMSE: {rmse:.2f}\")\n",
    "print(f\"MAE: {mae:.2f}\")\n",
    "print(f\"R²: {r2:.4f}\")"
   ]
  },
  {
   "cell_type": "markdown",
   "id": "c96a9298-5b76-432b-978d-669867927e9e",
   "metadata": {},
   "source": [
    "Re-spliting The Data"
   ]
  },
  {
   "cell_type": "code",
   "execution_count": 19,
   "id": "59d3f996-ae0d-4d7a-8b9d-ca177a5edc6d",
   "metadata": {},
   "outputs": [
    {
     "name": "stdout",
     "output_type": "stream",
     "text": [
      "X_train shape: (51877, 9)\n",
      "y_train shape: (51877,)\n"
     ]
    }
   ],
   "source": [
    "from sklearn.model_selection import train_test_split\n",
    "import pandas as pd\n",
    "import numpy as np\n",
    "\n",
    "# Define target and features\n",
    "target = 'log_price'  \n",
    "X = df.drop(columns=[target])  # Feature matrix\n",
    "y = df[target]  # Target variable\n",
    "\n",
    "# Ensure only numeric columns are used\n",
    "X = X.select_dtypes(include=[np.number])\n",
    "X.fillna(X.median(), inplace=True)  # Fill missing values\n",
    "\n",
    "# Split into train (70%), validation (15%), and test (15%)\n",
    "X_train, X_temp, y_train, y_temp = train_test_split(X, y, test_size=0.3, random_state=42)\n",
    "X_val, X_test, y_val, y_test = train_test_split(X_temp, y_temp, test_size=0.5, random_state=42)\n",
    "\n",
    "# Check if X_train is created\n",
    "print(\"X_train shape:\", X_train.shape)\n",
    "print(\"y_train shape:\", y_train.shape)"
   ]
  },
  {
   "cell_type": "markdown",
   "id": "6888f2b9-4195-4f4a-ad35-7124866865bf",
   "metadata": {},
   "source": [
    "Hyper Parameter Tuning"
   ]
  },
  {
   "cell_type": "code",
   "execution_count": 25,
   "id": "05d7116f-04ca-402c-b63b-a9951554ef24",
   "metadata": {},
   "outputs": [
    {
     "name": "stdout",
     "output_type": "stream",
     "text": [
      "Tuned Model RMSE: 0.46\n",
      "Tuned Model MAE: 0.35\n",
      "Tuned Model R²: 0.5875\n"
     ]
    }
   ],
   "source": [
    "from sklearn.model_selection import RandomizedSearchCV\n",
    "from sklearn.ensemble import RandomForestRegressor\n",
    "from sklearn.metrics import mean_squared_error, mean_absolute_error, r2_score\n",
    "\n",
    "# Smaller hyperparameter grid for faster tuning\n",
    "param_grid = {\n",
    "    'n_estimators': [100, 200],  # Reduce number of trees\n",
    "    'max_depth': [10, 15],  # Limit depth to prevent long training times\n",
    "    'min_samples_split': [2, 5],  \n",
    "    'min_samples_leaf': [1, 2]\n",
    "}\n",
    "\n",
    "# Randomized Search with fewer iterations\n",
    "rf_model = RandomForestRegressor(random_state=42)\n",
    "rf_cv = RandomizedSearchCV(rf_model, param_grid, cv=2, n_iter=3, scoring='neg_root_mean_squared_error', random_state=42)\n",
    "rf_cv.fit(X_train[:5000], y_train[:5000])  # Use a sample to speed up tuning\n",
    "\n",
    "# Best model\n",
    "best_rf = rf_cv.best_estimator_\n",
    "\n",
    "# Predict and evaluate\n",
    "y_test_pred_tuned = best_rf.predict(X_test)\n",
    "rmse_tuned = np.sqrt(mean_squared_error(y_test, y_test_pred_tuned))\n",
    "mae_tuned = mean_absolute_error(y_test, y_test_pred_tuned)\n",
    "r2_tuned = r2_score(y_test, y_test_pred_tuned)\n",
    "\n",
    "print(f\"Tuned Model RMSE: {rmse_tuned:.2f}\")\n",
    "print(f\"Tuned Model MAE: {mae_tuned:.2f}\")\n",
    "print(f\"Tuned Model R²: {r2_tuned:.4f}\")"
   ]
  },
  {
   "cell_type": "code",
   "execution_count": 27,
   "id": "a87ff806-53a0-4dcf-9a9a-7e40a6ccd59b",
   "metadata": {},
   "outputs": [
    {
     "data": {
      "image/png": "[encoded data removed]",
      "text/plain": [
       "<Figure size 1000x600 with 1 Axes>"
      ]
     },
     "metadata": {},
     "output_type": "display_data"
    }
   ],
   "source": [
    "import matplotlib.pyplot as plt\n",
    "import seaborn as sns\n",
    "\n",
    "# Get feature importance\n",
    "feature_importance = pd.Series(best_rf.feature_importances_, index=X.columns).sort_values(ascending=False)\n",
    "\n",
    "# Plot Top 10 Important Features\n",
    "plt.figure(figsize=(10, 6))\n",
    "sns.barplot(x=feature_importance[:10], y=feature_importance.index[:10])\n",
    "plt.xlabel(\"Importance Score\")\n",
    "plt.ylabel(\"Feature\")\n",
    "plt.title(\"Top 10 Features Influencing Price\")\n",
    "plt.show()"
   ]
  },
  {
   "cell_type": "code",
   "execution_count": 31,
   "id": "ec818e07-6c4c-44cd-a9c8-ab2a9675a80c",
   "metadata": {},
   "outputs": [
    {
     "data": {
      "image/png": "[encoded data removed]",
      "text/plain": [
       "<Figure size 1000x600 with 1 Axes>"
      ]
     },
     "metadata": {},
     "output_type": "display_data"
    }
   ],
   "source": [
    "import matplotlib.pyplot as plt\n",
    "import seaborn as sns\n",
    "\n",
    "# Set figure size\n",
    "plt.figure(figsize=(10, 6))\n",
    "\n",
    "# Plot histogram with Kernel Density Estimation (KDE)\n",
    "sns.histplot(df['log_price'], bins=50, kde=True)\n",
    "\n",
    "# Add labels and title\n",
    "plt.xlabel('Price ($)')\n",
    "plt.ylabel('Frequency')\n",
    "plt.title('Distribution of Airbnb Listing Prices')\n",
    "\n",
    "# Show the plot\n",
    "plt.show()"
   ]
  },
  {
   "cell_type": "code",
   "execution_count": 33,
   "id": "8c82bd09-3ae1-49fb-aa4f-44d1e20112d7",
   "metadata": {},
   "outputs": [
    {
     "data": {
      "image/png": "[encoded data removed]",
      "text/plain": [
       "<Figure size 800x500 with 1 Axes>"
      ]
     },
     "metadata": {},
     "output_type": "display_data"
    }
   ],
   "source": [
    "# Set figure size\n",
    "plt.figure(figsize=(8, 5))\n",
    "\n",
    "# Boxplot to show price distribution per bedroom count\n",
    "sns.boxplot(x=df['bedrooms'], y=df['log_price'])\n",
    "\n",
    "# Add labels and title\n",
    "plt.xlabel('Number of Bedrooms')\n",
    "plt.ylabel('Price ($)')\n",
    "plt.title('Price vs. Number of Bedrooms')\n",
    "\n",
    "# Show the plot\n",
    "plt.show()"
   ]
  },
  {
   "cell_type": "raw",
   "id": "a8481f87-e01d-42f2-9d9b-ce6c2880aab4",
   "metadata": {},
   "source": [
    "Insights on Factors Influencing Airbnb Prices\n",
    "\n",
    "Based on the visualizations and analysis, the following key factors influence Airbnb listing prices:\n",
    "\n",
    "1. Price Distribution (Histogram & KDE Plot)\n",
    "\n",
    "The distribution of Airbnb prices is right-skewed, meaning that most listings fall within a certain range, while a few listings have very high prices.\n",
    "\n",
    "The peak price range is around $4 - $5 (log-transformed scale), suggesting that most listings are competitively priced within this range.\n",
    "\n",
    "Outliers exist, indicating that some properties are significantly more expensive, likely due to luxury amenities, prime locations, or unique property types.\n",
    "\n",
    "\n",
    "2. Number of Bedrooms vs. Price (Box Plot)\n",
    "\n",
    "Listings with more bedrooms generally have higher prices, showing a positive correlation between the number of bedrooms and price.\n",
    "\n",
    "Smaller listings (0-2 bedrooms) show a wider variation in prices, which may be influenced by factors such as location, luxury status, or unique property features.\n",
    "\n",
    "Beyond 5 bedrooms, the price increase slows down, suggesting a point of diminishing returns—additional bedrooms may not significantly increase price.\n",
    "\n",
    "The presence of many outliers in all categories suggests that some listings are priced much higher than the average, possibly due to location or premium features.\n",
    "\n",
    "Other Potential Factors Influencing Prices (Future Analysis Considerations)\n",
    "\n",
    "Location: Listings in central business districts or tourist hotspots may command higher prices.\n",
    "\n",
    "Amenities: Properties offering pools, WiFi, or premium services may justify a higher price.\n",
    "\n",
    "Host Experience & Ratings: Well-rated, experienced hosts may charge more due to reliability.\n",
    "\n",
    "Seasonality: Demand fluctuations can lead to price variations (e.g., higher prices during peak travel seasons).\n",
    "\n",
    "Property Type: Apartments, houses, and unique stays (e.g., treehouses, villas) may have different pricing structures.\n",
    "\n",
    "\n",
    "\n",
    "\n",
    "\n",
    "Insights Drawn from the Analysis\n",
    "\n",
    "1. Price optimization is crucial: Since most listings fall within a certain price range, hosts should price their properties strategically to stay competitive.\n",
    "\n",
    "\n",
    "2. Smaller properties can still be premium: Even 1-bedroom properties can have high prices, likely due to location and amenities.\n",
    "\n",
    "3. More bedrooms do not always mean higher earnings: Prices increase up to a certain point but then level off, meaning hosts should focus on amenities and location rather than just adding more rooms.\n",
    "\n",
    "\n",
    "4. Market segmentation is necessary: Given the presence of outliers, it’s important to categorize listings by budget-friendly, mid-range, and luxury segments.\n",
    "\n",
    "\n",
    "\n",
    "\n",
    "\n",
    "\n",
    "Future Recommendations\n",
    "\n",
    "To enhance the insights and improve data-driven decision-making, consider the following recommendations for the dataset:\n",
    "\n",
    "1. Include More Pricing Factors\n",
    "\n",
    "Seasonality & Demand Trends: Add features like the month of booking, holiday seasons, and local events that might influence pricing.\n",
    "\n",
    "Competitor Pricing: Include the average price of similar listings in the same neighborhood for dynamic pricing analysis.\n",
    "\n",
    "Booking Lead Time: Capture the number of days between booking and check-in to understand its impact on price.\n",
    "\n",
    "\n",
    "2. Improve Data Granularity\n",
    "\n",
    "Amenities Details: Instead of just counting amenities, categorize them (e.g., luxury, basic, safety) for better analysis.\n",
    "\n",
    "Property Condition: Include ratings for cleanliness, maintenance, and furniture condition.\n",
    "\n",
    "\n",
    "3. Address Data Quality Issues\n",
    "\n",
    "Remove or Impute Missing Values: Fill missing values in critical fields like price, location, and reviews.\n",
    "\n",
    "Property Condition: Include ratings for cleanliness, maintenance, and furniture condition.\n",
    "\n",
    "\n",
    "3. Address Data Quality Issues\n",
    "\n",
    "Remove or Impute Missing Values: Fill missing values in critical fields like price, location, and reviews.\n",
    "\n",
    "Standardize Categorical Data: Ensure consistency in property type names (e.g., \"Apartment\" vs. \"apartment\").\n",
    "\n",
    "Handle Outliers: Detect and address extreme values in price and property features that might skew analysis.\n",
    "\n",
    "\n",
    "4. Expand Geospatial Information\n",
    "\n",
    "Neighborhood Popularity: Incorporate walkability scores, crime rates, and nearby attractions to explain price variations.\n",
    "\n",
    "Public Transport Access: Include data on distance to the nearest metro/bus stations to assess its effect on pricing.\n",
    "\n",
    "\n",
    "5. Capture Host-Related Insights\n",
    "\n",
    "Host Response Rate & Activity: Track how responsive and active hosts are, as this may impact price and bookings.\n",
    "\n",
    "Superhost Status: Include whether the host is a \"Superhost\" to see its influence on pricing and customer preference.\n",
    "\n",
    "\n",
    "6. Customer Behavior & Reviews\n",
    "\n",
    "Guest Demographics: If available, analyze guest profiles to identify key target audiences for premium pricing.\n",
    "\n",
    "Review Sentiment Analysis: Extract sentiment from reviews to assess how it affects pricing and bookings.\n",
    "\n",
    "\n",
    "7. Track Revenue & Occupancy\n",
    "\n",
    "Occupancy Rate: Add a column for the number of nights booked per listing to measure profitability.\n",
    "\n",
    "Revenue Calculation: Include a feature that multiplies price by the number of nights booked for revenue estimation.\n",
    "\n"
   ]
  }
 ],
 "metadata": {
  "kernelspec": {
   "display_name": "Python [conda env:base] *",
   "language": "python",
   "name": "conda-base-py"
  },
  "language_info": {
   "codemirror_mode": {
    "name": "ipython",
    "version": 3
   },
   "file_extension": ".py",
   "mimetype": "text/x-python",
   "name": "python",
   "nbconvert_exporter": "python",
   "pygments_lexer": "ipython3",
   "version": "3.12.7"
  }
 },
 "nbformat": 4,
 "nbformat_minor": 5
}
